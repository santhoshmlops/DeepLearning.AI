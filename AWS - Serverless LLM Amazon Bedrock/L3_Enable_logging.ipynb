{
 "cells": [
  {
   "cell_type": "markdown",
   "id": "cc6b7b9f-a75d-4b78-930f-26d2343ac2c2",
   "metadata": {},
   "source": [
    "# Lesson 3: Enable Logging"
   ]
  },
  {
   "cell_type": "markdown",
   "id": "06fc5839-0b4b-42a3-9aaf-99a97e347955",
   "metadata": {},
   "source": [
    "### Import all needed packages"
   ]
  },
  {
   "cell_type": "code",
   "execution_count": 1,
   "id": "63cf31e4",
   "metadata": {
    "height": 98
   },
   "outputs": [],
   "source": [
    "import boto3\n",
    "import json\n",
    "import os\n",
    "\n",
    "bedrock = boto3.client('bedrock', region_name=\"us-west-2\")"
   ]
  },
  {
   "cell_type": "code",
   "execution_count": 2,
   "id": "e5d9e31b",
   "metadata": {
    "height": 47
   },
   "outputs": [],
   "source": [
    "from helpers.CloudWatchHelper import CloudWatch_Helper\n",
    "cloudwatch = CloudWatch_Helper()"
   ]
  },
  {
   "cell_type": "code",
   "execution_count": 3,
   "id": "87a30e7e",
   "metadata": {
    "height": 30
   },
   "outputs": [],
   "source": [
    "log_group_name = '/my/amazon/bedrock/logs'"
   ]
  },
  {
   "cell_type": "code",
   "execution_count": 4,
   "id": "2461a51c",
   "metadata": {
    "height": 30
   },
   "outputs": [
    {
     "name": "stdout",
     "output_type": "stream",
     "text": [
      "Log group '/my/amazon/bedrock/logs' created successfully.\n"
     ]
    }
   ],
   "source": [
    "cloudwatch.create_log_group(log_group_name)"
   ]
  },
  {
   "cell_type": "code",
   "execution_count": 5,
   "id": "0afe5997",
   "metadata": {
    "height": 268
   },
   "outputs": [],
   "source": [
    "loggingConfig = {\n",
    "    'cloudWatchConfig': {\n",
    "        'logGroupName': log_group_name,\n",
    "        'roleArn': os.environ['LOGGINGROLEARN'],\n",
    "        'largeDataDeliveryS3Config': {\n",
    "            'bucketName': os.environ['LOGGINGBUCKETNAME'],\n",
    "            'keyPrefix': 'amazon_bedrock_large_data_delivery',\n",
    "        }\n",
    "    },\n",
    "    's3Config': {\n",
    "        'bucketName': os.environ['LOGGINGBUCKETNAME'],\n",
    "        'keyPrefix': 'amazon_bedrock_logs',\n",
    "    },\n",
    "    'textDataDeliveryEnabled': True,\n",
    "}"
   ]
  },
  {
   "cell_type": "code",
   "execution_count": 6,
   "id": "2ca33ffe",
   "metadata": {
    "height": 47
   },
   "outputs": [
    {
     "data": {
      "text/plain": [
       "{'ResponseMetadata': {'RequestId': 'd0c8fba7-db83-4002-a280-d6240264195d',\n",
       "  'HTTPStatusCode': 200,\n",
       "  'HTTPHeaders': {'date': 'Wed, 14 Feb 2024 17:06:03 GMT',\n",
       "   'content-type': 'application/json',\n",
       "   'content-length': '2',\n",
       "   'connection': 'keep-alive',\n",
       "   'x-amzn-requestid': 'd0c8fba7-db83-4002-a280-d6240264195d'},\n",
       "  'RetryAttempts': 0}}"
      ]
     },
     "execution_count": 6,
     "metadata": {},
     "output_type": "execute_result"
    }
   ],
   "source": [
    "bedrock.put_model_invocation_logging_configuration(loggingConfig=loggingConfig)"
   ]
  },
  {
   "cell_type": "code",
   "execution_count": 7,
   "id": "41fdb20d",
   "metadata": {
    "height": 30
   },
   "outputs": [
    {
     "data": {
      "text/plain": [
       "{'ResponseMetadata': {'RequestId': '8caf9051-e210-479e-9ce9-cc7df48d34d6',\n",
       "  'HTTPStatusCode': 200,\n",
       "  'HTTPHeaders': {'date': 'Wed, 14 Feb 2024 17:06:03 GMT',\n",
       "   'content-type': 'application/json',\n",
       "   'content-length': '572',\n",
       "   'connection': 'keep-alive',\n",
       "   'x-amzn-requestid': '8caf9051-e210-479e-9ce9-cc7df48d34d6'},\n",
       "  'RetryAttempts': 0},\n",
       " 'loggingConfig': {'cloudWatchConfig': {'logGroupName': '/my/amazon/bedrock/logs',\n",
       "   'roleArn': 'arn:aws:iam::070262862469:role/c99355a2566044l5831195t1w07026286246-LoggingIAMRole-kBNpWKRXU9Sz',\n",
       "   'largeDataDeliveryS3Config': {'bucketName': 'c99355a2566044l5831195t1w070262862-loggings3bucket-6hhflawphmts',\n",
       "    'keyPrefix': 'amazon_bedrock_large_data_delivery'}},\n",
       "  's3Config': {'bucketName': 'c99355a2566044l5831195t1w070262862-loggings3bucket-6hhflawphmts',\n",
       "   'keyPrefix': 'amazon_bedrock_logs'},\n",
       "  'textDataDeliveryEnabled': True,\n",
       "  'imageDataDeliveryEnabled': True,\n",
       "  'embeddingDataDeliveryEnabled': True}}"
      ]
     },
     "execution_count": 7,
     "metadata": {},
     "output_type": "execute_result"
    }
   ],
   "source": [
    "bedrock.get_model_invocation_logging_configuration()"
   ]
  },
  {
   "cell_type": "code",
   "execution_count": 8,
   "id": "95ebecb7",
   "metadata": {
    "height": 47
   },
   "outputs": [],
   "source": [
    "bedrock_runtime = boto3.client('bedrock-runtime', region_name=\"us-west-2\")"
   ]
  },
  {
   "cell_type": "code",
   "execution_count": 9,
   "id": "402c6311",
   "metadata": {
    "height": 421
   },
   "outputs": [
    {
     "name": "stdout",
     "output_type": "stream",
     "text": [
      "\n",
      "Foobar is a fictional planet in the popular science fiction series \"Star Trek.\" It is a lush, green world located in the Beta Quadrant of the Milky Way Galaxy. The planet is home to a race of humanoids known as the Foobarians, who are characterized by their tall, slim build, blue skin, and large, expressive eyes.\n",
      "\n",
      "Foobar is first mentioned in the original \"Star Trek\" series, which aired in the 1960s. In the episode \"The Trouble with Tribbles,\" the USS Enterprise encounters a group of alien spacecraft that are carrying a dangerous cargo: genetically engineered tribbles. The crew of the Enterprise must stop the tribbles from reaching Foobar, where they could multiply and destroy the planet's ecosystem.\n",
      "\n",
      "Foobar is a paradise-like world, with rolling hills, dense forests, and sparkling rivers. The Foobarians live in a society that is based on peace, harmony, and environmentalism. They are highly advanced in technology and have developed a form of telepathy that allows them to communicate with each other without using words.\n",
      "\n",
      "The Foobarians are a peaceful race, and they have no interest in conquest or expansion. They are opposed to violence and warfare, and they have a strong sense of community and responsibility towards the environment. They are also known for their artistic and musical talents, with many of them being skilled musicians, painters, and sculptors.\n",
      "\n",
      "Despite their peaceful nature, Foobar is not immune to danger. In the episode \"The Omega Glory,\" the USS Enterprise is again called upon to protect Foobar from a group of renegade Klingon warriors who are seeking to conquer the planet. The Enterprise crew must work together to defeat the Klingons and save Foobar from destruction.\n",
      "\n",
      "In conclusion, Foobar is a fictional planet that is home to a peaceful, technologically advanced race of humanoids known as the Foobarians. The planet is a paradise-like world that is based on peace, harmony, and environmentalism. Despite its peaceful nature, Foobar has been threatened by danger on several occasions, but the Enterprise crew has always been able to come to its rescue. Foobar is a beloved character in the \"Star Trek\" universe, and its peaceful, idyllic nature has made it a popular destination for fans of the series.\n"
     ]
    }
   ],
   "source": [
    "prompt = \"Write an article about the fictional planet Foobar.\"\n",
    "\n",
    "kwargs = {\n",
    "    \"modelId\": \"amazon.titan-text-express-v1\",\n",
    "    \"contentType\": \"application/json\",\n",
    "    \"accept\": \"*/*\",\n",
    "    \"body\": json.dumps(\n",
    "        {\n",
    "            \"inputText\": prompt,\n",
    "            \"textGenerationConfig\": {\n",
    "                \"maxTokenCount\": 512,\n",
    "                \"temperature\": 0.7,\n",
    "                \"topP\": 0.9\n",
    "            }\n",
    "        }\n",
    "    )\n",
    "}\n",
    "\n",
    "response = bedrock_runtime.invoke_model(**kwargs)\n",
    "response_body = json.loads(response.get('body').read())\n",
    "\n",
    "generation = response_body['results'][0]['outputText']\n",
    "\n",
    "print(generation)"
   ]
  },
  {
   "cell_type": "code",
   "execution_count": 10,
   "id": "68a7bab7",
   "metadata": {
    "height": 30
   },
   "outputs": [
    {
     "name": "stdout",
     "output_type": "stream",
     "text": [
      "Permissions are correctly set for Amazon Bedrock logs.\n",
      "-------------------------\n",
      "\n"
     ]
    }
   ],
   "source": [
    "cloudwatch.print_recent_logs(log_group_name)"
   ]
  },
  {
   "cell_type": "markdown",
   "id": "1118acfb",
   "metadata": {},
   "source": [
    "To review the logs within the AWS console, please use the following link to reference the steps outlined in the video:"
   ]
  },
  {
   "cell_type": "code",
   "execution_count": 11,
   "id": "2cf443d2",
   "metadata": {
    "height": 47
   },
   "outputs": [],
   "source": [
    "from IPython.display import HTML\n",
    "aws_url = os.environ['AWS_CONSOLE_URL']"
   ]
  },
  {
   "cell_type": "code",
   "execution_count": 12,
   "id": "0b7c904c",
   "metadata": {
    "height": 47
   },
   "outputs": [
    {
     "data": {
      "text/html": [
       "<a href=\"https://signin.aws.amazon.com/federation?Action=login&SigninToken=vY90GBNMn2kTf6tgO9BV4rs9iboPQb7ImqjUZm7fspkaJxuDuPhbsmhz_C6rZXkHMetiVAhiSdw_LmS6-RY2kf0eZAZQ1B5V7BBbG_xDO0HWftXd02nm_WqUFXBK1uN6I22XAbWaDCLVRC5LazDyENW0MWBP1Yx5Tfx6TKMDnMHjsg1lcbzQM1Xi-V9mz25RXLjOfheK8uZ-mYFSYpLVEISk7c9vmlZuzUJbl5WI0qEuMPVNUaS8l9QtDfR4GMfmQUaYNmUSgmAWvo3xY2yhKRe6JTGYRvHza5CIwWYWOC3c_fI27AxVdvNpsNWYQQlCKLqAtyzftqwZmZMki35rpSjRASwz-ESteQ1OgLH1Xdz0mE32SsWlq9JTHa54Hqx14Nep1ENdyiW303tbxN5AMwFkpeegxqpNh-zeT2VqcBIuCx_3rnbkeOl48fo1iBmbr-OtA6WCe86c1Zml-Y0MzSypoJFDYbtQ9l2dlowqGNTYWbaA7h_sJZSwJf6Q__WOQopSC5CopZwIQ0jcchKVYjMJSfgO5Kj8vPbvXd0DfqvsZegYltav79AuQkS-FfMJ1Mw6kksSl_fBAZa78s2Xzj3V6oKtThqBRWrOuq5UTAUjpjgqjMjY3M-tr7A0HE03n-HPl05I-z9HL4xpi-qcTQ_tNSbolDNHoVVx3Oufy_MEWkoot9LxICzffAXQpLJyX_zGGe_dyCT9cvob7H6ElON_6ZY6sL8VEiRJvlu6EScEQbho8dBVvgAyfY1I0gkEn4zLJZMSEVGMMBAUeuhxHEhXgbDcKQnZn_HPybF39VExJa-w3VpezOWVan30A3r2LEiYX23QOhIY_gmsCzl7U6F1Kt2QEweNV8ClmHYKhPHij9dyO_X3m_Z1YqtR-m53Q9oRa8FpiHHByXYlfN0LOyUtIUj5izTAGPossP6oA9b_U00TmAK4pzYrLJcv8vTS1E_GNJpO6h8m5G85UVJtMxwBblZpPd9AbLPDwBF2oBkw23NRDyk4e4xdipAwipRuubErz6bDLraciOaYVECZsBYKrJIu1eRZjzQvupuF79McFQe6p2sSfC_9ybmkqDDnEFCIaA-L3zxHIYRKIr_rgUqbktAYViqZpIGTFGm3y5RVA_9rd4cRkT6YZUOeKtOJjPFlMymkI6ELFJtkstSfk_ET10EaRJ48_rl6YR8iDTPWgEA8ZwZoaGWxru-K94XsPN5VL5pP_iJt_CEyT_5NOgMM8rJP1ZB7gaHh2TEZ730xXUEMO_umDHf7FpSbEFmd9dthruptM-W4xkMP1PLKhz4_zwrnZznYRkfCn9EnWDT41TmlrUmIyG5Z95_nvVLn649SuCUh7-L3XPWr85pcS0O8O54oNh8J0GUvOhx19UriwmFugZflpp1QopvddmYuoDLphX4FxFpsRejSPBLxSMdfdK7Bpw39obyx559sj6YA3l1OBxAp5J5_gRCTa8uOSveFwaPjuNITkm4A_82sGnW7WTQMTrQPJPS8WdH2fT9OngvNnk1MAd6dqpHf8kSgZ81pFzzWQndBC90bgdkjHKTfMiHpww&Issuer=https%3A%2F%2Fapi.vocareum.com&Destination=https%3A%2F%2Fconsole.aws.amazon.com%2Fconsole%2Fhome%3Fregion%3Dus-west-2\" target=\"_blank\">GO TO AWS CONSOLE</a>"
      ],
      "text/plain": [
       "<IPython.core.display.HTML object>"
      ]
     },
     "execution_count": 12,
     "metadata": {},
     "output_type": "execute_result"
    }
   ],
   "source": [
    "HTML(f'<a href=\"{aws_url}\" target=\"_blank\">GO TO AWS CONSOLE</a>')\n"
   ]
  }
 ],
 "metadata": {
  "kernelspec": {
   "display_name": "Python 3 (ipykernel)",
   "language": "python",
   "name": "python3"
  },
  "language_info": {
   "codemirror_mode": {
    "name": "ipython",
    "version": 3
   },
   "file_extension": ".py",
   "mimetype": "text/x-python",
   "name": "python",
   "nbconvert_exporter": "python",
   "pygments_lexer": "ipython3",
   "version": "3.10.9"
  }
 },
 "nbformat": 4,
 "nbformat_minor": 5
}
